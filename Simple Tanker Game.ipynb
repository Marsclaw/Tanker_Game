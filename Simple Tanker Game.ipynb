{
 "cells": [
  {
   "cell_type": "markdown",
   "id": "13ab0f18",
   "metadata": {},
   "source": [
    "Let’s think about what would be found in an object designed to represent a futuristic hover tank. It\n",
    "should contain a bare minimum of the following properties:\n",
    "\n",
    " • Position: Where is the tank?\n",
    "\n",
    " • Direction: In what direction is it facing?\n",
    "\n",
    " • Speed: How fast is it going?\n",
    "\n",
    " • Armor: How much armor does it have?\n",
    "\n",
    " • Ammo: How many shells does it have?\n",
    "\n",
    "\n",
    "Now that we have the information to describe a tank and what it is doing, we need to give it the ability to\n",
    "perform all the actions that a tank needs to do in a game. \n",
    "\n",
    "In OOP-speak, these actions are called methods. \n",
    "I can think of the following methods that a tank will definitely require, but there will likely be far more:\n",
    "\n",
    "  • Move: Move the tank forward.\n",
    "\n",
    "  • Turn: Rotate the tank left/right.\n",
    "\n",
    "  • Fire: Launch a shell.\n",
    "\n",
    "  • Hit: This is the action when an enemy shell hits the tank.\n",
    "\n",
    "  • Explode: Replace the tank with an explosion animation.\n",
    "\n",
    "\n",
    "You can see that the methods typically change the properties of an object. \n",
    "\n",
    "When the Move method is used, it will update the tank’s Position. \n",
    "\n",
    "Similarly, when the Fire method is used, the value of Ammo will be updated (unless of course there is no Ammo left; then Fire would not do anything!)."
   ]
  },
  {
   "cell_type": "code",
   "execution_count": 6,
   "id": "4d114d70",
   "metadata": {},
   "outputs": [],
   "source": [
    "# An Example tank definition\n",
    "\n",
    "class Tank(object):\n",
    "    def __init__(self,name):\n",
    "        self.name = name\n",
    "        self.alive = True\n",
    "        self.ammo = 5\n",
    "        self.armor = 60"
   ]
  },
  {
   "cell_type": "markdown",
   "id": "e8ae7ef8",
   "metadata": {},
   "source": [
    "When Python encounters class Tank(object):, it creates a class called Tank, which is derived from\n",
    "the base class called object. \n",
    "\n",
    "Deriving from a class means building on what it does. We could first create a\n",
    "class called Vehicle, which could handle moving and turning, and then create a tank by deriving from it and\n",
    "adding the ability to fire weapons. \n",
    "\n",
    "The advantage of this approach is that Vehicle could be reused to give\n",
    "other game entities the ability to rotate and move. \n",
    "\n",
    "For this example, we don’t have another class to build on,\n",
    "so our base class will be object, which is a simple class built into Python itself."
   ]
  },
  {
   "cell_type": "code",
   "execution_count": 9,
   "id": "f2f794c8",
   "metadata": {},
   "outputs": [
    {
     "data": {
      "text/plain": [
       "'Bob'"
      ]
     },
     "execution_count": 9,
     "metadata": {},
     "output_type": "execute_result"
    }
   ],
   "source": [
    "# Creating an object \n",
    "\n",
    "my_tank = Tank(\"Bob\")\n",
    "# Accessing  the variable names of the class from the refernc3 variable\n",
    "my_tank.name"
   ]
  },
  {
   "cell_type": "code",
   "execution_count": 10,
   "id": "533f3363",
   "metadata": {},
   "outputs": [],
   "source": [
    "# An Example tank definition\n",
    "\n",
    "class Tank:\n",
    "    def __init__(self,name):\n",
    "        self.name = name\n",
    "        self.alive = True\n",
    "        self.ammo = 5\n",
    "        self.armor = 60"
   ]
  },
  {
   "cell_type": "code",
   "execution_count": 12,
   "id": "2fdb047f",
   "metadata": {},
   "outputs": [],
   "source": [
    "b = Tank('Bob')"
   ]
  },
  {
   "cell_type": "code",
   "execution_count": 13,
   "id": "8560f974",
   "metadata": {},
   "outputs": [
    {
     "data": {
      "text/plain": [
       "'Bob'"
      ]
     },
     "execution_count": 13,
     "metadata": {},
     "output_type": "execute_result"
    }
   ],
   "source": [
    "b.name"
   ]
  },
  {
   "cell_type": "code",
   "execution_count": 14,
   "id": "c7d1b382",
   "metadata": {},
   "outputs": [],
   "source": [
    "class Tank(object):\n",
    "    def __init__(self,name):\n",
    "        self.name = name\n",
    "        self.alive = True\n",
    "        self.ammo = 5\n",
    "        self.armor = 60\n",
    "    \n",
    "    def __Str__(self):\n",
    "        if self.alive:\n",
    "            return \"%s (%i armor , %i shells)\" %(self.name,self.armor,self.ammo)\n",
    "        else:\n",
    "            return \"%s (DEAD)\" % self.name"
   ]
  },
  {
   "cell_type": "code",
   "execution_count": 15,
   "id": "8c08553b",
   "metadata": {},
   "outputs": [],
   "source": [
    "#It takes the parameter enemy, which is the tank object we want to fire at. First it checks how much ammo is remaining. If there is\n",
    "#at least one shell, it reduces self.ammo by 1 (because we just fired a shell) and calls the enemy tank’s hit\n",
    "#method. Inside the enemy tank’s hit method it reduces self.armor by 20. \n",
    "\n",
    "def fire_at(self,enemy):\n",
    "    if self.ammo >=1:\n",
    "        self.ammo -= 1\n",
    "        print(self.name, \"fires at \",enemy.name)\n",
    "        enemy.hit()\n",
    "    else:\n",
    "        print(self.name,\"has no shells!!!!\")"
   ]
  },
  {
   "cell_type": "code",
   "execution_count": 2,
   "id": "16ba5f5a",
   "metadata": {},
   "outputs": [],
   "source": [
    "#Inside the enemy tank’s hit method it reduces self.armor by 20.\n",
    "def hit(Self):\n",
    "    self.armor -= 20\n",
    "    print(self.name,\"is hit!!\")\n",
    "    if self.armor <= 0:\n",
    "        self.explode()"
   ]
  },
  {
   "cell_type": "code",
   "execution_count": 1,
   "id": "76dfbb29",
   "metadata": {},
   "outputs": [],
   "source": [
    "#If there is no armor remaining,then the enemy is dead, so we call its explode method to mark the tank as deceased.\n",
    "\n",
    "def explode(self):\n",
    "    self.alive = False\n",
    "    print(self.names,\"explodes!!!!\")"
   ]
  },
  {
   "cell_type": "code",
   "execution_count": 30,
   "id": "4b833368",
   "metadata": {},
   "outputs": [],
   "source": [
    "class Tank(object):\n",
    "    def __init__(self,name):\n",
    "        self.name = name\n",
    "        self.alive = True\n",
    "        self.ammo = 5\n",
    "        self.armor = 60\n",
    "        \n",
    "    def __str__(self):\n",
    "        if self.alive:\n",
    "            return \"%s (%i armor , %i shells)\" % (self.name,self.armor,self.ammo)\n",
    "        else:\n",
    "            return \"%s (DEAD)\" % self.name\n",
    "        \n",
    "    def fire_at(self,enemy):\n",
    "        if self.ammo >= 1:\n",
    "            self.ammo -= 1\n",
    "            print(self.name,\"fires on \", enemy.name)\n",
    "            enemy.hit()\n",
    "        else:\n",
    "            print(self.name , \"has no shells\")\n",
    "            \n",
    "    def hit(self):\n",
    "        self.armor -= 20\n",
    "        print(self.name , \"is hit !!!\")\n",
    "        if self.armor <= 0:\n",
    "            self.explode()\n",
    "            \n",
    "    def explode(self):\n",
    "        self.alive = False\n",
    "        print(self.name , \"explodes!!!\")\n",
    "    \n",
    "    "
   ]
  },
  {
   "cell_type": "code",
   "execution_count": 9,
   "id": "583f16fa",
   "metadata": {},
   "outputs": [
    {
     "name": "stdout",
     "output_type": "stream",
     "text": [
      "3\n"
     ]
    }
   ],
   "source": [
    "tanks = {\"a\":Tank(\"Alice\"),\"b\":Tank(\"Bob\"),\"c\":Tank(\"Carol\")}\n",
    "alive_tanks = len(tanks)\n",
    "print(alive_tanks)"
   ]
  },
  {
   "cell_type": "code",
   "execution_count": 10,
   "id": "877963a6",
   "metadata": {},
   "outputs": [
    {
     "data": {
      "text/plain": [
       "dict_keys(['a', 'b', 'c'])"
      ]
     },
     "execution_count": 10,
     "metadata": {},
     "output_type": "execute_result"
    }
   ],
   "source": [
    "tanks.keys()"
   ]
  },
  {
   "cell_type": "code",
   "execution_count": 11,
   "id": "006315f6",
   "metadata": {},
   "outputs": [
    {
     "data": {
      "text/plain": [
       "['a', 'b', 'c']"
      ]
     },
     "execution_count": 11,
     "metadata": {},
     "output_type": "execute_result"
    }
   ],
   "source": [
    "sorted(tanks.keys())"
   ]
  },
  {
   "cell_type": "code",
   "execution_count": 34,
   "id": "744dcdf7",
   "metadata": {},
   "outputs": [
    {
     "name": "stdout",
     "output_type": "stream",
     "text": [
      "a Alice (DEAD)\n",
      "b Bob (20 armor , 2 shells)\n",
      "c Carol (DEAD)\n"
     ]
    }
   ],
   "source": [
    "for tank_name in sorted(tanks.keys()):\n",
    "    print(tank_name,tanks[tank_name])"
   ]
  },
  {
   "cell_type": "code",
   "execution_count": 32,
   "id": "0d1dd6c3",
   "metadata": {},
   "outputs": [
    {
     "name": "stdout",
     "output_type": "stream",
     "text": [
      "a Alice (60 armor , 5 shells)\n",
      "Who fires? q\n",
      "Who at? w\n",
      "No such tank! 'q'\n",
      "b Bob (60 armor , 5 shells)\n",
      "Who fires? a\n",
      "Who at? b\n",
      "******************************\n",
      "Alice fires on  Bob\n",
      "Bob is hit !!!\n",
      "c Carol (60 armor , 5 shells)\n",
      "Who fires? c\n",
      "Who at? a\n",
      "******************************\n",
      "Carol fires on  Alice\n",
      "Alice is hit !!!\n",
      "a Alice (40 armor , 4 shells)\n",
      "Who fires? b\n",
      "Who at? a\n",
      "******************************\n",
      "Bob fires on  Alice\n",
      "Alice is hit !!!\n",
      "b Bob (40 armor , 4 shells)\n",
      "Who fires? c\n",
      "Who at? b\n",
      "******************************\n",
      "Carol fires on  Bob\n",
      "Bob is hit !!!\n",
      "c Carol (60 armor , 3 shells)\n",
      "Who fires? a\n",
      "Who at? c\n",
      "******************************\n",
      "Alice fires on  Carol\n",
      "Carol is hit !!!\n",
      "a Alice (20 armor , 3 shells)\n",
      "Who fires? b\n",
      "Who at? c\n",
      "******************************\n",
      "Bob fires on  Carol\n",
      "Carol is hit !!!\n",
      "b Bob (20 armor , 3 shells)\n",
      "Who fires? a\n",
      "Who at? c\n",
      "******************************\n",
      "Alice fires on  Carol\n",
      "Carol is hit !!!\n",
      "Carol explodes!!!\n",
      "******************************\n",
      "c Carol (DEAD)\n",
      "Who fires? b\n",
      "Who at? a\n",
      "******************************\n",
      "Bob fires on  Alice\n",
      "Alice is hit !!!\n",
      "Alice explodes!!!\n",
      "******************************\n",
      "Bob is the winner!\n"
     ]
    }
   ],
   "source": [
    "tanks = {\"a\":Tank(\"Alice\"), \"b\":Tank(\"Bob\"), \"c\":Tank(\"Carol\") }\n",
    "alive_tanks = len(tanks)\n",
    "while alive_tanks > 1:\n",
    "    for tank_name in sorted( tanks.keys() ):\n",
    "        print(tank_name, tanks[tank_name])\n",
    "        first = input(\"Who fires? \").lower()\n",
    "        second = input(\"Who at? \" ).lower()\n",
    "        try:\n",
    "            first_tank = tanks[first]\n",
    "            second_tank = tanks[second]\n",
    "        except KeyError as name:\n",
    "            print(\"No such tank!\", name)\n",
    "            continue\n",
    "        if not first_tank.alive or not second_tank.alive:\n",
    "            print(\"One of those tanks is dead!\")\n",
    "            continue\n",
    "        print(\"*\" * 30)\n",
    "        \n",
    "        first_tank.fire_at(second_tank)\n",
    "        if not second_tank.alive:\n",
    "            alive_tanks -= 1\n",
    "            \n",
    "            print(\"*\" * 30)\n",
    "for tank in tanks.values():\n",
    "    if tank.alive:\n",
    "        print(tank.name, \"is the winner!\")\n",
    "        break"
   ]
  },
  {
   "cell_type": "code",
   "execution_count": null,
   "id": "5cf0e512",
   "metadata": {},
   "outputs": [],
   "source": []
  },
  {
   "cell_type": "code",
   "execution_count": null,
   "id": "57aed806",
   "metadata": {},
   "outputs": [],
   "source": []
  },
  {
   "cell_type": "code",
   "execution_count": null,
   "id": "52e8add2",
   "metadata": {},
   "outputs": [],
   "source": []
  },
  {
   "cell_type": "code",
   "execution_count": null,
   "id": "850a0da6",
   "metadata": {},
   "outputs": [],
   "source": []
  },
  {
   "cell_type": "code",
   "execution_count": null,
   "id": "47012193",
   "metadata": {},
   "outputs": [],
   "source": []
  }
 ],
 "metadata": {
  "kernelspec": {
   "display_name": "Python 3 (ipykernel)",
   "language": "python",
   "name": "python3"
  },
  "language_info": {
   "codemirror_mode": {
    "name": "ipython",
    "version": 3
   },
   "file_extension": ".py",
   "mimetype": "text/x-python",
   "name": "python",
   "nbconvert_exporter": "python",
   "pygments_lexer": "ipython3",
   "version": "3.9.7"
  }
 },
 "nbformat": 4,
 "nbformat_minor": 5
}
