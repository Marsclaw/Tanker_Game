{
 "cells": [
  {
   "cell_type": "markdown",
   "id": "70146a6c",
   "metadata": {},
   "source": [
    "Let’s think about what would be found in an object designed to represent a futuristic hover tank. It\n",
    "should contain a bare minimum of the following properties:\n",
    "\n",
    " • Position: Where is the tank?\n",
    "\n",
    " • Direction: In what direction is it facing?\n",
    "\n",
    " • Speed: How fast is it going?\n",
    "\n",
    " • Armor: How much armor does it have?\n",
    "\n",
    " • Ammo: How many shells does it have?\n",
    "\n",
    "\n",
    "Now that we have the information to describe a tank and what it is doing, we need to give it the ability to\n",
    "perform all the actions that a tank needs to do in a game. \n",
    "\n",
    "In OOP-speak, these actions are called methods. \n",
    "I can think of the following methods that a tank will definitely require, but there will likely be far more:\n",
    "\n",
    "  • Move: Move the tank forward.\n",
    "\n",
    "  • Turn: Rotate the tank left/right.\n",
    "\n",
    "  • Fire: Launch a shell.\n",
    "\n",
    "  • Hit: This is the action when an enemy shell hits the tank.\n",
    "\n",
    "  • Explode: Replace the tank with an explosion animation.\n",
    "\n",
    "\n",
    "You can see that the methods typically change the properties of an object. \n",
    "\n",
    "When the Move method is used, it will update the tank’s Position. \n",
    "\n",
    "Similarly, when the Fire method is used, the value of Ammo will be updated (unless of course there is no Ammo left; then Fire would not do anything!)."
   ]
  },
  {
   "cell_type": "code",
   "execution_count": 6,
   "id": "79e475eb",
   "metadata": {},
   "outputs": [],
   "source": [
    "# An Example tank definition\n",
    "\n",
    "class Tank(object):\n",
    "    def __init__(self,name):\n",
    "        self.name = name\n",
    "        self.alive = True\n",
    "        self.ammo = 5\n",
    "        self.armor = 60"
   ]
  },
  {
   "cell_type": "markdown",
   "id": "c8838ada",
   "metadata": {},
   "source": [
    "When Python encounters class Tank(object):, it creates a class called Tank, which is derived from\n",
    "the base class called object. \n",
    "\n",
    "Deriving from a class means building on what it does. We could first create a\n",
    "class called Vehicle, which could handle moving and turning, and then create a tank by deriving from it and\n",
    "adding the ability to fire weapons. \n",
    "\n",
    "The advantage of this approach is that Vehicle could be reused to give\n",
    "other game entities the ability to rotate and move. \n",
    "\n",
    "For this example, we don’t have another class to build on,\n",
    "so our base class will be object, which is a simple class built into Python itself."
   ]
  },
  {
   "cell_type": "code",
   "execution_count": 9,
   "id": "2ab61fc2",
   "metadata": {},
   "outputs": [
    {
     "data": {
      "text/plain": [
       "'Bob'"
      ]
     },
     "execution_count": 9,
     "metadata": {},
     "output_type": "execute_result"
    }
   ],
   "source": [
    "# Creating an object \n",
    "\n",
    "my_tank = Tank(\"Bob\")\n",
    "# Accessing  the variable names of the class from the refernc3 variable\n",
    "my_tank.name"
   ]
  }
 ],
 "metadata": {
  "kernelspec": {
   "display_name": "Python 3 (ipykernel)",
   "language": "python",
   "name": "python3"
  },
  "language_info": {
   "codemirror_mode": {
    "name": "ipython",
    "version": 3
   },
   "file_extension": ".py",
   "mimetype": "text/x-python",
   "name": "python",
   "nbconvert_exporter": "python",
   "pygments_lexer": "ipython3",
   "version": "3.9.7"
  }
 },
 "nbformat": 4,
 "nbformat_minor": 5
}
